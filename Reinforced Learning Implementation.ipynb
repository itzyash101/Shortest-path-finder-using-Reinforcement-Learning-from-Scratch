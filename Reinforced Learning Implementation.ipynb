{
 "cells": [
  {
   "cell_type": "code",
   "execution_count": 1,
   "metadata": {},
   "outputs": [],
   "source": [
    "import numpy as np    # Q-Learning Implementation using numpy\n",
    "import networkx as nx\n",
    "import matplotlib.pyplot as plt"
   ]
  },
  {
   "cell_type": "code",
   "execution_count": 2,
   "metadata": {},
   "outputs": [],
   "source": [
    "edges = [(0, 3), (0, 4), (2, 5), (4, 7), (3, 8), (1, 9), (7, 5), (7, 1), (8, 5), (3, 4), (4, 2), (2, 7), (3, 2), (6, 7), (4, 6), (8, 2)]\n",
    "goal = 8"
   ]
  },
  {
   "cell_type": "code",
   "execution_count": 3,
   "metadata": {},
   "outputs": [
    {
     "name": "stderr",
     "output_type": "stream",
     "text": [
      "C:\\Users\\lakku\\Anaconda3\\lib\\site-packages\\networkx\\drawing\\nx_pylab.py:579: MatplotlibDeprecationWarning: \n",
      "The iterable function was deprecated in Matplotlib 3.1 and will be removed in 3.3. Use np.iterable instead.\n",
      "  if not cb.iterable(width):\n"
     ]
    },
    {
     "data": {
      "image/png": "[encoded data removed]",
      "text/plain": [
       "<Figure size 432x288 with 1 Axes>"
      ]
     },
     "metadata": {},
     "output_type": "display_data"
    }
   ],
   "source": [
    "#Building Graph\n",
    "graph = nx.Graph()\n",
    "graph.add_edges_from(edges)\n",
    "pos = nx.spring_layout(graph)\n",
    "nx.draw_networkx_nodes(graph, pos)\n",
    "nx.draw_networkx_edges(graph, pos)\n",
    "nx.draw_networkx_labels(graph, pos)\n",
    "plt.show()"
   ]
  },
  {
   "cell_type": "code",
   "execution_count": 4,
   "metadata": {},
   "outputs": [],
   "source": [
    "#Reward Matrix\n",
    "size = 10\n",
    "r = np.matrix(np.ones(shape = (size, size)))\n",
    "r *= -1\n",
    "for node in edges:\n",
    "    if(node[1] is goal):\n",
    "        r[node] = 100\n",
    "    else: r[node] = 0\n",
    "    if(node[0] is goal):\n",
    "        r[node[::-1]] = 100\n",
    "    else:\n",
    "        r[node[::-1]] = 0\n",
    "r[goal, goal] = 100"
   ]
  },
  {
   "cell_type": "code",
   "execution_count": 5,
   "metadata": {},
   "outputs": [
    {
     "data": {
      "text/plain": [
       "matrix([[ -1.,  -1.,  -1.,   0.,   0.,  -1.,  -1.,  -1.,  -1.,  -1.],\n",
       "        [ -1.,  -1.,  -1.,  -1.,  -1.,  -1.,  -1.,   0.,  -1.,   0.],\n",
       "        [ -1.,  -1.,  -1.,   0.,   0.,   0.,  -1.,   0., 100.,  -1.],\n",
       "        [  0.,  -1.,   0.,  -1.,   0.,  -1.,  -1.,  -1., 100.,  -1.],\n",
       "        [  0.,  -1.,   0.,   0.,  -1.,  -1.,   0.,   0.,  -1.,  -1.],\n",
       "        [ -1.,  -1.,   0.,  -1.,  -1.,  -1.,  -1.,   0., 100.,  -1.],\n",
       "        [ -1.,  -1.,  -1.,  -1.,   0.,  -1.,  -1.,   0.,  -1.,  -1.],\n",
       "        [ -1.,   0.,   0.,  -1.,   0.,   0.,   0.,  -1.,  -1.,  -1.],\n",
       "        [ -1.,  -1.,   0.,   0.,  -1.,   0.,  -1.,  -1., 100.,  -1.],\n",
       "        [ -1.,   0.,  -1.,  -1.,  -1.,  -1.,  -1.,  -1.,  -1.,  -1.]])"
      ]
     },
     "execution_count": 5,
     "metadata": {},
     "output_type": "execute_result"
    }
   ],
   "source": [
    "r"
   ]
  },
  {
   "cell_type": "code",
   "execution_count": 6,
   "metadata": {},
   "outputs": [],
   "source": [
    "q = np.matrix(np.zeros(shape = (size, size)))\n",
    "initial = 7\n",
    "def available_actions(state):\n",
    "    avail_acts = np.where(r[state, ] >= 0)[1]\n",
    "    return avail_acts\n",
    "actions = available_actions(initial)"
   ]
  },
  {
   "cell_type": "code",
   "execution_count": 7,
   "metadata": {},
   "outputs": [],
   "source": [
    "def chose_action(actions):\n",
    "    if(actions.shape[0] > 1):\n",
    "        action = np.random.choice(actions, 1)\n",
    "    else:\n",
    "        action = int(actions)\n",
    "    return action\n",
    "action = chose_action(actions)"
   ]
  },
  {
   "cell_type": "code",
   "execution_count": 8,
   "metadata": {},
   "outputs": [
    {
     "data": {
      "text/plain": [
       "(array([4], dtype=int64), matrix([[0., 0., 0., 0., 0., 0., 0., 0., 0., 0.],\n",
       "         [0., 0., 0., 0., 0., 0., 0., 0., 0., 0.],\n",
       "         [0., 0., 0., 0., 0., 0., 0., 0., 0., 0.],\n",
       "         [0., 0., 0., 0., 0., 0., 0., 0., 0., 0.],\n",
       "         [0., 0., 0., 0., 0., 0., 0., 0., 0., 0.],\n",
       "         [0., 0., 0., 0., 0., 0., 0., 0., 0., 0.],\n",
       "         [0., 0., 0., 0., 0., 0., 0., 0., 0., 0.],\n",
       "         [0., 0., 0., 0., 0., 0., 0., 0., 0., 0.],\n",
       "         [0., 0., 0., 0., 0., 0., 0., 0., 0., 0.],\n",
       "         [0., 0., 0., 0., 0., 0., 0., 0., 0., 0.]]))"
      ]
     },
     "execution_count": 8,
     "metadata": {},
     "output_type": "execute_result"
    }
   ],
   "source": [
    "action, q"
   ]
  },
  {
   "cell_type": "code",
   "execution_count": 9,
   "metadata": {},
   "outputs": [
    {
     "data": {
      "text/plain": [
       "0"
      ]
     },
     "execution_count": 9,
     "metadata": {},
     "output_type": "execute_result"
    }
   ],
   "source": [
    "gamma = 0.8\n",
    "# Updating Q-Matrix\n",
    "def update_q(state, action, gamma):\n",
    "    q1 = []\n",
    "    acts = available_actions(action)\n",
    "    for i in acts:\n",
    "        q1.append(q[action, i])\n",
    "    max_value = np.max(q1)\n",
    "    q[state, action] = r[state, action] + gamma * max_value\n",
    "    q1.clear()\n",
    "    if(np.max(q) > 0):\n",
    "        return (np.sum(q / np.max(q)*100))\n",
    "    else:\n",
    "        return (0)\n",
    "update_q(initial, action, gamma)"
   ]
  },
  {
   "cell_type": "code",
   "execution_count": 10,
   "metadata": {},
   "outputs": [],
   "source": [
    "# Training my reinforecement model\n",
    "scores = []\n",
    "for i in range(1200):\n",
    "    state = np.random.randint(0, int(q.shape[0]))\n",
    "    actions = available_actions(state)\n",
    "    action = chose_action(actions)\n",
    "    score = update_q(state, action, gamma)\n",
    "    scores.append(score)"
   ]
  },
  {
   "cell_type": "code",
   "execution_count": 11,
   "metadata": {},
   "outputs": [
    {
     "data": {
      "text/plain": [
       "matrix([[  0.        ,   0.        ,   0.        , 399.41043106,\n",
       "         319.62267588,   0.        ,   0.        ,   0.        ,\n",
       "           0.        ,   0.        ],\n",
       "        [  0.        ,   0.        ,   0.        ,   0.        ,\n",
       "           0.        ,   0.        ,   0.        , 319.62267588,\n",
       "           0.        , 204.21043106],\n",
       "        [  0.        ,   0.        ,   0.        , 399.41043106,\n",
       "         319.62267588, 399.80681005,   0.        , 319.07879853,\n",
       "         499.75851256,   0.        ],\n",
       "        [319.52834485,   0.        , 399.52834485,   0.        ,\n",
       "         319.62267588,   0.        ,   0.        ,   0.        ,\n",
       "         499.26303882,   0.        ],\n",
       "        [319.52834485,   0.        , 399.52834485, 399.41043106,\n",
       "           0.        ,   0.        , 255.6981407 , 319.07879853,\n",
       "           0.        ,   0.        ],\n",
       "        [  0.        ,   0.        , 399.52834485,   0.        ,\n",
       "           0.        ,   0.        ,   0.        , 319.07879853,\n",
       "         499.75851256,   0.        ],\n",
       "        [  0.        ,   0.        ,   0.        ,   0.        ,\n",
       "         319.62267588,   0.        ,   0.        , 319.07879853,\n",
       "           0.        ,   0.        ],\n",
       "        [  0.        , 255.26303882, 399.52834485,   0.        ,\n",
       "         319.07879853, 398.5606227 , 255.62267588,   0.        ,\n",
       "           0.        ,   0.        ],\n",
       "        [  0.        ,   0.        , 399.52834485, 399.41043106,\n",
       "           0.        , 399.52834485,   0.        ,   0.        ,\n",
       "         499.80681005,   0.        ],\n",
       "        [  0.        , 255.26303882,   0.        ,   0.        ,\n",
       "           0.        ,   0.        ,   0.        ,   0.        ,\n",
       "           0.        ,   0.        ]])"
      ]
     },
     "execution_count": 11,
     "metadata": {},
     "output_type": "execute_result"
    }
   ],
   "source": [
    "q"
   ]
  },
  {
   "cell_type": "code",
   "execution_count": 13,
   "metadata": {},
   "outputs": [
    {
     "name": "stdout",
     "output_type": "stream",
     "text": [
      "Shortest Path:\n",
      "[7, 2, 8]\n"
     ]
    }
   ],
   "source": [
    "current = initial\n",
    "steps = [current,]\n",
    "while current != 8:\n",
    "    next_step = np.where(q[current, ] == np.max(q[current, ]))[1]\n",
    "    if(next_step.shape[0] > 1):\n",
    "        next_step = np.random.choice(next_step, 1)\n",
    "    next_step = int(next_step)\n",
    "    steps.append(next_step)\n",
    "    current = next_step\n",
    "print(\"Shortest Path:\")\n",
    "print(steps)"
   ]
  },
  {
   "cell_type": "code",
   "execution_count": 14,
   "metadata": {},
   "outputs": [
    {
     "data": {
      "text/plain": [
       "Text(0.5, 1.0, 'Overall Training Score')"
      ]
     },
     "execution_count": 14,
     "metadata": {},
     "output_type": "execute_result"
    },
    {
     "data": {
      "image/png": "[encoded data removed]",
      "text/plain": [
       "<Figure size 432x288 with 1 Axes>"
      ]
     },
     "metadata": {
      "needs_background": "light"
     },
     "output_type": "display_data"
    }
   ],
   "source": [
    "# Score PLot\n",
    "plt.plot(scores, color = 'g')\n",
    "plt.xlabel('Iterations')\n",
    "plt.ylabel('Score')\n",
    "plt.title('Overall Training Score')"
   ]
  }
 ],
 "metadata": {
  "kernelspec": {
   "display_name": "Python 3",
   "language": "python",
   "name": "python3"
  },
  "language_info": {
   "codemirror_mode": {
    "name": "ipython",
    "version": 3
   },
   "file_extension": ".py",
   "mimetype": "text/x-python",
   "name": "python",
   "nbconvert_exporter": "python",
   "pygments_lexer": "ipython3",
   "version": "3.7.4"
  }
 },
 "nbformat": 4,
 "nbformat_minor": 2
}
